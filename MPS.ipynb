from flask import Flask, jsonify, request, send_file
import pandas as pd
import matplotlib.pyplot as plt
from PIL import Image
import numpy as np
import heapq
import cv2


     

def rgb_to_moon_magnitude(rgb):
    brightness = sum(rgb) / 3  # average brightness for R, G, B
    min_elevation = -9500
    max_elevation = 10500
    magnitude = min_elevation + (brightness / 255) * (max_elevation - min_elevation)
    return magnitude

def image_to_moon_magnitudes(image_path):
    img = Image.open(image_path).convert("RGB")
    img_array = np.array(img)
    magnitudes = np.zeros((img_array.shape[0], img_array.shape[1]))

    for i in range(img_array.shape[0]):
        for j in range(img_array.shape[1]):
            rgb = img_array[i, j]
            magnitudes[i, j] = rgb_to_moon_magnitude(rgb)

    return magnitudes

def heuristic(a, b):
    # Heuristic function for A* (Euclidean distance)
    return np.sqrt((a[0] - b[0]) ** 2 + (a[1] - b[1]) ** 2)

def find_optimal_route(elevation_grid, start, end):
    rows, cols = elevation_grid.shape
    open_set = []
    heapq.heappush(open_set, (0, start))

    came_from = {}
    g_score = {start: 0}
    f_score = {start: heuristic(start, end)}

    while open_set:
        _, current = heapq.heappop(open_set)

        if current == end:
            # Reconstruct path from end to start
            path = []
            while current in came_from:
                path.append(current)
                current = came_from[current]
            path.append(start)
            path.reverse()
            return path

        neighbors = [
            (current[0] + dx, current[1] + dy)
            for dx, dy in [(-1, 0), (1, 0), (0, -1), (0, 1)]
            if 0 <= current[0] + dx < rows and 0 <= current[1] + dy < cols
        ]

        for neighbor in neighbors:
            elevation_diff = abs(elevation_grid[neighbor] - elevation_grid[current])
            tentative_g_score = g_score[current] + heuristic(current, neighbor) + elevation_diff

            if neighbor not in g_score or tentative_g_score < g_score[neighbor]:
                came_from[neighbor] = current
                g_score[neighbor] = tentative_g_score
                f_score[neighbor] = tentative_g_score + heuristic(neighbor, end)
                heapq.heappush(open_set, (f_score[neighbor], neighbor))

    return None  # No path found

# Main function to get the optimal route
def get_optimal_path(image_path, start, end):
    elevation_grid = image_to_moon_magnitudes(image_path)
    path = find_optimal_route(elevation_grid, start, end)
    arr = []
    if path:
        print("Optimal path found:")
        for coord in path:
            x, y = coord
            z = elevation_grid[x, y]
            #print(f"({x}, {y}, {z:.2f})")
            arr.append([x,y,z])
    else:
        print("No path found between the specified points.")
    return arr

app = Flask(__name__)
@app.route('/route', methods = ['GET'])
def route():
    image_path = request.args.get('image_path', './MPS/img2.png')
    start = (int(request.args.get('start_x', 10)), int(request.args.get('start_y', 10)))
    end = (int(request.args.get('end_x', 75)), int(request.args.get('end_y', 150)))

    path_data = get_optimal_path(image_path, start, end)
    path_df = pd.DataFrame(path_data, columns=['y', 'x', 'z'])

    # Plotting the route
    plt.figure()
    fig, ax = plt.subplots()
    ax.invert_yaxis()
    img = cv2.imread(image_path)
    plt.imshow(img, cmap="viridis")
    plt.plot(path_df['x'], path_df['y'], color="red")
    plot_path = "./path_plot.png"
    plt.savefig(plot_path)
    plt.close()

    return send_file(plot_path, mimetype='image/png')

if __name__ == '__main__':
    app.run(debug=True, port=5000)
